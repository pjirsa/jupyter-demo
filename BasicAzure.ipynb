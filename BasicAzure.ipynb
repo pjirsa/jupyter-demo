{
 "metadata": {
  "language_info": {
   "codemirror_mode": {
    "name": "ipython",
    "version": 3
   },
   "file_extension": ".py",
   "mimetype": "text/x-python",
   "name": "python",
   "nbconvert_exporter": "python",
   "pygments_lexer": "ipython3",
   "version": "3.8.3-final"
  },
  "orig_nbformat": 2,
  "kernelspec": {
   "name": "python38364bite25f7d9c844c4c11aedd4c6da2fd1f20",
   "display_name": "Python 3.8.3 64-bit"
  }
 },
 "nbformat": 4,
 "nbformat_minor": 2,
 "cells": [
  {
   "cell_type": "code",
   "execution_count": 1,
   "metadata": {
    "tags": []
   },
   "outputs": [
    {
     "output_type": "stream",
     "name": "stdout",
     "text": "Hello World\n"
    }
   ],
   "source": [
    "print(\"Hello World\")"
   ]
  },
  {
   "cell_type": "code",
   "execution_count": 3,
   "metadata": {
    "tags": []
   },
   "outputs": [
    {
     "output_type": "stream",
     "name": "stdout",
     "text": "Name                                                CloudName    SubscriptionId                        State    IsDefault\n--------------------------------------------------  -----------  ------------------------------------  -------  -----------\nAIRS-phjirsa                                        AzureCloud   a8f61e03-8571-438c-ac25-274d51ab7100  Enabled  True\nAzure Migrate Demo Subscription                     AzureCloud   6785ea1f-ac40-4244-a9ce-94b12fd832ca  Enabled  False\nAzure Migrate Program Management Team               AzureCloud   8c3c936a-c09b-4de3-830b-3f5f244d72e9  Enabled  False\nLinux Microservices PROD                            AzureCloud   02d68940-61e6-42d0-81d1-8396b7451114  Enabled  False\nSkype-NetEM-PROD                                    AzureCloud   8cff5d56-95fb-4a74-ab9d-079edb45313e  Enabled  False\nCode generate Test and Infra                        AzureCloud   7fd08dcc-a653-4b0f-8f8c-4dac889fdda4  Enabled  False\nMSRCSUPP Non-Express Prod CC70550                   AzureCloud   4d747266-6ac4-4929-89e2-4cfe9a71858b  Enabled  False\nDESP-APT-MTB-Prod                                   AzureCloud   8a6e61f6-4dae-4242-b835-83b8aafcbbed  Enabled  False\nBing MM Measurement                                 AzureCloud   ae71ef11-a03f-4b4f-a0e6-ef144727c711  Enabled  False\nServicesPortfolio MCS                               AzureCloud   eec2de82-6ab2-4a84-ae5f-57e9a10bf661  Enabled  False\nEdge DevTools Client                                AzureCloud   d21a0e9f-5e29-4b39-8ba5-0e189bc5fe2d  Enabled  False\nMSFT-Receipting-01                                  AzureCloud   b913f427-6b2e-47dc-b0e9-70ffd147c31a  Enabled  False\nTScience                                            AzureCloud   9ec1d932-0f3f-486c-acc6-e7d78b358f9b  Enabled  False\nMicrosoft Azure Internal Consumption                AzureCloud   97227f43-3143-4d5f-921c-bc9de25314e2  Enabled  False\nMicrosoft Services Disaster Response                AzureCloud   3c69a94e-4f48-4b8b-8bdf-aff82fa0ac9c  Enabled  False\nCOSINE-ES-FailureAnalysis                           AzureCloud   96f7a6ad-39d4-42e5-b676-a510a9e6fd22  Enabled  False\nContoso IT – SH360 – Prod                           AzureCloud   e93d3ee6-fac1-412f-92d6-bfb379e81af2  Enabled  False\nContoso IT – Retail - DevTest                       AzureCloud   35ad74f4-0b37-44a7-ba94-91b6ec6026cd  Enabled  False\nMicrosoft Azure Sponsorship 2                       AzureCloud   7b76bfbc-cb1e-4df1-b6e8-b826eef6c592  Enabled  False\nContoso Infra3                                      AzureCloud   66ee64da-2532-4d9a-a36b-d745327d20d9  Enabled  False\nContoso Infra1                                      AzureCloud   0ba674a6-9fde-43b4-8370-a7e16fdf0641  Enabled  False\nContoso Dev_EUS                                     AzureCloud   00edfbf3-f815-41d1-9e7c-d61e5522b8bf  Enabled  False\nContoso Infra2                                      AzureCloud   2f0675ce-dbad-46c5-8663-3c0e4740222b  Enabled  False\nContoso IT – SH360 - DevTest                        AzureCloud   0745e7d2-1e06-4d9e-9b9b-f42442b8b92f  Enabled  False\nContoso Hotels                                      AzureCloud   5733bcb3-7fde-4caf-8629-41dc15e3b352  Enabled  False\nContoso IT - Retail - Prod                          AzureCloud   45f9252d-e27e-4ed8-ab4e-dc5054de13fa  Enabled  False\nContoso IT – SH360 – Pre-Prod                       AzureCloud   71578c6b-75ba-4865-8f52-3e66d70389fd  Enabled  False\nContoso Dev_India                                   AzureCloud   9472dc54-45db-406b-9c01-bba9fa0cbb3c  Enabled  False\nCraig's Internal Consumption                        AzureCloud   9b692584-5019-4234-b4d2-4dd8ca54eed4  Enabled  False\nsadoshi internal AIRS                               AzureCloud   8bb3bc5c-ab3a-4357-be3a-bf2b7ee9d105  Enabled  False\nPhil's Windows Azure  MSDN - Visual Studio Premium  AzureCloud   6c47cf9a-aa56-4de6-ac1f-4e89c9f50151  Enabled  False\nVisual Studio Enterprise                            AzureCloud   26c190c5-f563-4e1e-b62b-05f6e5acf661  Enabled  False\n\u001b[0m"
    }
   ],
   "source": [
    "!az account list -o table"
   ]
  },
  {
   "cell_type": "code",
   "execution_count": 4,
   "metadata": {
    "tags": []
   },
   "outputs": [
    {
     "output_type": "stream",
     "name": "stdout",
     "text": "\u001b[33mCreating a role assignment under the scope of \"/subscriptions/a8f61e03-8571-438c-ac25-274d51ab7100\"\u001b[0m\n"
    }
   ],
   "source": [
    "!az ad sp create-for-rbac --sdk-auth > my.azureauth"
   ]
  },
  {
   "cell_type": "code",
   "execution_count": 20,
   "metadata": {},
   "outputs": [],
   "source": [
    "import json\n",
    "\n",
    "config = json.load(open(\"my.azureauth\"))\n",
    "#config"
   ]
  },
  {
   "cell_type": "code",
   "execution_count": 19,
   "metadata": {},
   "outputs": [
    {
     "output_type": "execute_result",
     "data": {
      "text/plain": "'eyJ0eXAiOiJKV1QiLCJhbGciOiJSUzI1NiIsIng1dCI6ImppYk5ia0ZTU2JteFBZck45Q0ZxUms0SzRndyIsImtpZCI6ImppYk5ia0ZTU2JteFBZck45Q0ZxUms0SzRndyJ9.eyJhdWQiOiJodHRwczovL21hbmFnZW1lbnQuYXp1cmUuY29tLyIsImlzcyI6Imh0dHBzOi8vc3RzLndpbmRvd3MubmV0LzcyZjk4OGJmLTg2ZjEtNDFhZi05MWFiLTJkN2NkMDExZGI0Ny8iLCJpYXQiOjE1OTkxODA2MzIsIm5iZiI6MTU5OTE4MDYzMiwiZXhwIjoxNTk5MjY3MzMyLCJhaW8iOiJFMkJnWUhDZDl2SHBpVGw5eTA3L25pVDI2SHFOQ3dBPSIsImFwcGlkIjoiZGEzZTdhNGUtYmMyMy00YzczLWIxNzctNDBkMzk2M2VhMDk1IiwiYXBwaWRhY3IiOiIxIiwiaWRwIjoiaHR0cHM6Ly9zdHMud2luZG93cy5uZXQvNzJmOTg4YmYtODZmMS00MWFmLTkxYWItMmQ3Y2QwMTFkYjQ3LyIsIm9pZCI6IjI2ZWI1ODIwLWM2Y2UtNDVjNi05NDJlLTgzOWI2YmJjMDliNSIsInJoIjoiMC5BUm9BdjRqNWN2R0dyMEdScXkxODBCSGJSMDU2UHRvanZITk1zWGRBMDVZLW9KVWFBQUEuIiwic3ViIjoiMjZlYjU4MjAtYzZjZS00NWM2LTk0MmUtODM5YjZiYmMwOWI1IiwidGlkIjoiNzJmOTg4YmYtODZmMS00MWFmLTkxYWItMmQ3Y2QwMTFkYjQ3IiwidXRpIjoiSm5kcE9uWWNsa200UHdWd2l6Y0tBQSIsInZlciI6IjEuMCIsInhtc190Y2R0IjoxMjg5MjQxNTQ3fQ.ouyOvJbYvQEEYJ5tKMLrttpf06zB_ZFkfHwUtqOTD5qfzwbMF8CysaebuHeoHshs2gLmpW8lx2xGSVwXUDfAcNLT5p8v0n5vplfZLk31s9JFfE9kOj0IlHkLwtYCCrP8ZvUkxZuNe7mkH93sK4LF9QOI5PcTzVL1vO4i98rBIPMIbKS28FlKAIENAHTfZvskcY7oR_gv_HeKR5g72BdAdyeVx9-8Y62GfJOj31SXy0XJfRZZo1b5sb4yOclB0ivXLpZ2pFFcYm5Pw2HIJg1LRgJShh5q8zgSfDiLSFstVwJoOVixLBTvNY31ZEk7i8LtVFrgJBw98J1cVZ1NFq8sJg'"
     },
     "metadata": {},
     "execution_count": 19
    }
   ],
   "source": [
    "import msal\n",
    "\n",
    "authority = config['activeDirectoryEndpointUrl'] + '/' + config['tenantId']\n",
    "app = msal.ConfidentialClientApplication(config['clientId'], authority=authority, client_credential=config['clientSecret'])\n",
    "\n",
    "authResult = app.acquire_token_for_client(config['resourceManagerEndpointUrl'] + '/.default')\n",
    "authResult['access_token']"
   ]
  },
  {
   "cell_type": "code",
   "execution_count": 17,
   "metadata": {},
   "outputs": [
    {
     "output_type": "execute_result",
     "data": {
      "text/plain": "[{'id': '/subscriptions/a8f61e03-8571-438c-ac25-274d51ab7100/resourceGroups/dark-knight',\n  'name': 'dark-knight',\n  'type': 'Microsoft.Resources/resourceGroups',\n  'location': 'centralus',\n  'tags': {},\n  'properties': {'provisioningState': 'Succeeded'}},\n {'id': '/subscriptions/a8f61e03-8571-438c-ac25-274d51ab7100/resourceGroups/36mphdemo',\n  'name': '36mphdemo',\n  'type': 'Microsoft.Resources/resourceGroups',\n  'location': 'centralus',\n  'properties': {'provisioningState': 'Succeeded'}},\n {'id': '/subscriptions/a8f61e03-8571-438c-ac25-274d51ab7100/resourceGroups/golf-demo',\n  'name': 'golf-demo',\n  'type': 'Microsoft.Resources/resourceGroups',\n  'location': 'centralus',\n  'properties': {'provisioningState': 'Succeeded'}},\n {'id': '/subscriptions/a8f61e03-8571-438c-ac25-274d51ab7100/resourceGroups/hackrequest',\n  'name': 'hackrequest',\n  'type': 'Microsoft.Resources/resourceGroups',\n  'location': 'eastus',\n  'properties': {'provisioningState': 'Succeeded'}},\n {'id': '/subscriptions/a8f61e03-8571-438c-ac25-274d51ab7100/resourceGroups/dashboards',\n  'name': 'dashboards',\n  'type': 'Microsoft.Resources/resourceGroups',\n  'location': 'eastus',\n  'properties': {'provisioningState': 'Succeeded'}},\n {'id': '/subscriptions/a8f61e03-8571-438c-ac25-274d51ab7100/resourceGroups/vso-rg-403d846',\n  'name': 'vso-rg-403d846',\n  'type': 'Microsoft.Resources/resourceGroups',\n  'location': 'eastus',\n  'properties': {'provisioningState': 'Succeeded'}},\n {'id': '/subscriptions/a8f61e03-8571-438c-ac25-274d51ab7100/resourceGroups/fhir-demo',\n  'name': 'fhir-demo',\n  'type': 'Microsoft.Resources/resourceGroups',\n  'location': 'eastus',\n  'tags': {},\n  'properties': {'provisioningState': 'Succeeded'}},\n {'id': '/subscriptions/a8f61e03-8571-438c-ac25-274d51ab7100/resourceGroups/apim-demo',\n  'name': 'apim-demo',\n  'type': 'Microsoft.Resources/resourceGroups',\n  'location': 'westus',\n  'properties': {'provisioningState': 'Succeeded'}},\n {'id': '/subscriptions/a8f61e03-8571-438c-ac25-274d51ab7100/resourceGroups/cloud-shell-storage-eastus',\n  'name': 'cloud-shell-storage-eastus',\n  'type': 'Microsoft.Resources/resourceGroups',\n  'location': 'eastus',\n  'properties': {'provisioningState': 'Succeeded'}},\n {'id': '/subscriptions/a8f61e03-8571-438c-ac25-274d51ab7100/resourceGroups/DefaultResourceGroup-EUS',\n  'name': 'DefaultResourceGroup-EUS',\n  'type': 'Microsoft.Resources/resourceGroups',\n  'location': 'eastus',\n  'properties': {'provisioningState': 'Succeeded'}},\n {'id': '/subscriptions/a8f61e03-8571-438c-ac25-274d51ab7100/resourceGroups/DefaultResourceGroup-CUS',\n  'name': 'DefaultResourceGroup-CUS',\n  'type': 'Microsoft.Resources/resourceGroups',\n  'location': 'centralus',\n  'properties': {'provisioningState': 'Succeeded'}},\n {'id': '/subscriptions/a8f61e03-8571-438c-ac25-274d51ab7100/resourceGroups/NetworkWatcherRG',\n  'name': 'NetworkWatcherRG',\n  'type': 'Microsoft.Resources/resourceGroups',\n  'location': 'centralus',\n  'properties': {'provisioningState': 'Succeeded'}},\n {'id': '/subscriptions/a8f61e03-8571-438c-ac25-274d51ab7100/resourceGroups/HealthBotContainerSample2486',\n  'name': 'HealthBotContainerSample2486',\n  'type': 'Microsoft.Resources/resourceGroups',\n  'location': 'eastus',\n  'properties': {'provisioningState': 'Succeeded'}},\n {'id': '/subscriptions/a8f61e03-8571-438c-ac25-274d51ab7100/resourceGroups/private-demo',\n  'name': 'private-demo',\n  'type': 'Microsoft.Resources/resourceGroups',\n  'location': 'eastus',\n  'tags': {},\n  'properties': {'provisioningState': 'Succeeded'}},\n {'id': '/subscriptions/a8f61e03-8571-438c-ac25-274d51ab7100/resourceGroups/static-demo',\n  'name': 'static-demo',\n  'type': 'Microsoft.Resources/resourceGroups',\n  'location': 'eastus',\n  'tags': {'SuccessEngagement': '7-R4RIX4DAP'},\n  'properties': {'provisioningState': 'Succeeded'}},\n {'id': '/subscriptions/a8f61e03-8571-438c-ac25-274d51ab7100/resourceGroups/fhir-import',\n  'name': 'fhir-import',\n  'type': 'Microsoft.Resources/resourceGroups',\n  'location': 'eastus',\n  'tags': {},\n  'properties': {'provisioningState': 'Succeeded'}}]"
     },
     "metadata": {},
     "execution_count": 17
    }
   ],
   "source": [
    "import requests\n",
    "import io\n",
    "\n",
    "r = requests.get(\"{}/subscriptions/{}/resourceGroups?api-version=2020-06-01\".format(config['resourceManagerEndpointUrl'], config['subscriptionId']),\n",
    "    headers={\"Authorization\": \"Bearer \" + authResult['access_token']})\n",
    "\n",
    "result = json.loads(r.content.decode('utf-8'))\n",
    "result['value']"
   ]
  },
  {
   "cell_type": "code",
   "execution_count": null,
   "metadata": {},
   "outputs": [],
   "source": []
  }
 ]
}